{
 "cells": [
  {
   "cell_type": "code",
   "execution_count": 1,
   "id": "ee582cf3-9003-4523-adf7-fb053ff4e2af",
   "metadata": {
    "tags": []
   },
   "outputs": [],
   "source": [
    "%load_ext autoreload\n",
    "%autoreload 2"
   ]
  },
  {
   "cell_type": "code",
   "execution_count": 2,
   "id": "1c0c2cd9-9651-40c8-a712-999828dd6e49",
   "metadata": {
    "tags": []
   },
   "outputs": [],
   "source": [
    "import pandas as pd"
   ]
  },
  {
   "cell_type": "code",
   "execution_count": 3,
   "id": "94851389-c0f5-4426-b8b4-245b9e02dacd",
   "metadata": {
    "tags": []
   },
   "outputs": [],
   "source": [
    "df = pd.read_csv(\"../data/raw/items_titles.csv\")"
   ]
  },
  {
   "cell_type": "code",
   "execution_count": null,
   "id": "508ea32d-c6bf-443c-9d2c-3d8ca5ca01ed",
   "metadata": {
    "tags": []
   },
   "outputs": [],
   "source": [
    "df.head()"
   ]
  },
  {
   "cell_type": "code",
   "execution_count": null,
   "id": "61bb9147-4400-452e-93bc-a282a917d2fc",
   "metadata": {
    "tags": []
   },
   "outputs": [],
   "source": [
    "df.tail()"
   ]
  },
  {
   "cell_type": "code",
   "execution_count": 4,
   "id": "e778ca67-e7c1-4525-8eae-f876987f3f7a",
   "metadata": {
    "tags": []
   },
   "outputs": [],
   "source": [
    "df_test = pd.read_csv(\"../data/raw/items_titles_test.csv\")"
   ]
  },
  {
   "cell_type": "code",
   "execution_count": null,
   "id": "9f6d8d15-989b-4199-86bc-a6946a67012a",
   "metadata": {
    "tags": []
   },
   "outputs": [],
   "source": [
    "df_test.head()"
   ]
  },
  {
   "cell_type": "code",
   "execution_count": null,
   "id": "3d8614b9-1b2c-424c-9210-558cd673ec78",
   "metadata": {
    "tags": []
   },
   "outputs": [],
   "source": [
    "df_test.tail()"
   ]
  },
  {
   "cell_type": "code",
   "execution_count": null,
   "id": "15ce5919-591e-4486-84f5-66526fbde47d",
   "metadata": {
    "tags": []
   },
   "outputs": [],
   "source": [
    "df['desc'] = df['ITE_ITEM_TITLE']\n",
    "df_test['desc'] = df_test['ITE_ITEM_TITLE']"
   ]
  },
  {
   "cell_type": "code",
   "execution_count": null,
   "id": "f32389c2-2dc7-4912-9d31-8b6bdcd62104",
   "metadata": {
    "tags": []
   },
   "outputs": [],
   "source": [
    "df_join = df_test.merge(df, on=\"ITE_ITEM_TITLE\", how=\"left\")"
   ]
  },
  {
   "cell_type": "code",
   "execution_count": null,
   "id": "312078d3-673e-4039-94c1-80182e3d1f3e",
   "metadata": {
    "tags": []
   },
   "outputs": [],
   "source": [
    "df_join.head()"
   ]
  },
  {
   "cell_type": "code",
   "execution_count": null,
   "id": "548c1e7e-02c8-4e85-b914-9e6e6417b089",
   "metadata": {
    "tags": []
   },
   "outputs": [],
   "source": [
    "df_join.shape"
   ]
  },
  {
   "cell_type": "code",
   "execution_count": null,
   "id": "f9361ccc-1e41-42b8-8d2b-c9299a8f0521",
   "metadata": {
    "tags": []
   },
   "outputs": [],
   "source": [
    "df_join[df_join[\"desc_y\"].isna()].shape"
   ]
  },
  {
   "cell_type": "code",
   "execution_count": null,
   "id": "2a248e03-229b-4cd1-a0a3-044854606db6",
   "metadata": {
    "tags": []
   },
   "outputs": [],
   "source": [
    "df_join[~df_join[\"desc_y\"].isna()].shape"
   ]
  },
  {
   "cell_type": "code",
   "execution_count": null,
   "id": "d638fb21-ff03-483b-9d90-e0e02bcee270",
   "metadata": {
    "tags": []
   },
   "outputs": [],
   "source": [
    "df_join[~df_join[\"desc_y\"].isna()]"
   ]
  },
  {
   "cell_type": "code",
   "execution_count": 5,
   "id": "7bf1ac4c-76ca-4fed-b53f-d2e630cdb537",
   "metadata": {},
   "outputs": [],
   "source": [
    "from sklearn.feature_extraction.text import TfidfVectorizer"
   ]
  },
  {
   "cell_type": "code",
   "execution_count": null,
   "id": "4618ea36-f474-4d0d-90d4-86322367935c",
   "metadata": {
    "tags": []
   },
   "outputs": [],
   "source": [
    "tf_idf = TfidfVectorizer()\n",
    "df_test_tfidf = tf_idf.fit_transform(df_test)"
   ]
  },
  {
   "cell_type": "code",
   "execution_count": null,
   "id": "4857b461-8022-4aac-8736-18356dbbe528",
   "metadata": {
    "tags": []
   },
   "outputs": [],
   "source": [
    "df_tfidf = tf_idf.transform(df)"
   ]
  },
  {
   "cell_type": "code",
   "execution_count": null,
   "id": "452bb987-b990-42f6-903a-c29dfd8f70b6",
   "metadata": {
    "tags": []
   },
   "outputs": [],
   "source": [
    "tf_idf.get_feature_names_out()"
   ]
  },
  {
   "cell_type": "code",
   "execution_count": null,
   "id": "c7ce2cc2-dced-47cc-8aa9-5d4bba530e6e",
   "metadata": {
    "tags": []
   },
   "outputs": [],
   "source": [
    "# !pip install sentence-transformers"
   ]
  },
  {
   "cell_type": "code",
   "execution_count": 6,
   "id": "4c33c869-b5f2-4c78-85a6-abaa3cdb1629",
   "metadata": {
    "tags": []
   },
   "outputs": [
    {
     "name": "stderr",
     "output_type": "stream",
     "text": [
      "/Users/adrianofreitas/prj/meli/.venv/lib/python3.10/site-packages/tqdm/auto.py:22: TqdmWarning: IProgress not found. Please update jupyter and ipywidgets. See https://ipywidgets.readthedocs.io/en/stable/user_install.html\n",
      "  from .autonotebook import tqdm as notebook_tqdm\n"
     ]
    }
   ],
   "source": [
    "from sentence_transformers import SentenceTransformer, util"
   ]
  },
  {
   "cell_type": "code",
   "execution_count": 7,
   "id": "2a7d9394-c7f8-4c46-88d6-7288479ec0fe",
   "metadata": {
    "tags": []
   },
   "outputs": [],
   "source": [
    "model = SentenceTransformer('stsb-roberta-large')"
   ]
  },
  {
   "cell_type": "code",
   "execution_count": 32,
   "id": "818534f7-4c7a-4d4a-86c2-49e9e8d1e28c",
   "metadata": {
    "tags": []
   },
   "outputs": [],
   "source": [
    "sentences = [sentence.lower() for sentence in df[\"ITE_ITEM_TITLE\"]]"
   ]
  },
  {
   "cell_type": "code",
   "execution_count": 33,
   "id": "5e920618-cdf3-4363-8ad7-c7de2c6ac8da",
   "metadata": {
    "tags": []
   },
   "outputs": [],
   "source": [
    "sentences_test = [sentence.lower() for sentence in df_test[\"ITE_ITEM_TITLE\"]]"
   ]
  },
  {
   "cell_type": "code",
   "execution_count": 34,
   "id": "88c07767-75ea-44ba-a4e2-86b12949104c",
   "metadata": {
    "tags": []
   },
   "outputs": [
    {
     "name": "stdout",
     "output_type": "stream",
     "text": [
      "CPU times: user 1h 21min 8s, sys: 2min 16s, total: 1h 23min 24s\n",
      "Wall time: 49min 43s\n"
     ]
    }
   ],
   "source": [
    "%%time\n",
    "embeddings = model.encode(sentences)"
   ]
  },
  {
   "cell_type": "code",
   "execution_count": 35,
   "id": "5733136c-4445-4334-aa2b-be5a077e70ee",
   "metadata": {
    "tags": []
   },
   "outputs": [
    {
     "name": "stdout",
     "output_type": "stream",
     "text": [
      "CPU times: user 26min 41s, sys: 34.3 s, total: 27min 15s\n",
      "Wall time: 14min 17s\n"
     ]
    }
   ],
   "source": [
    "%%time\n",
    "embeddings_test = model.encode(sentences_test)"
   ]
  },
  {
   "cell_type": "code",
   "execution_count": 36,
   "id": "d53f0595-91ae-494c-9d1b-098fa2246602",
   "metadata": {
    "tags": []
   },
   "outputs": [
    {
     "name": "stdout",
     "output_type": "stream",
     "text": [
      "CPU times: user 3h 6min 9s, sys: 3min 26s, total: 3h 9min 36s\n",
      "Wall time: 2h 36min 11s\n"
     ]
    }
   ],
   "source": [
    "%%time\n",
    "for i, sent_test in enumerate(zip(sentences_test, embeddings_test)):\n",
    "    # embed_sent = model.encode(sent)\n",
    "    sent, embed_sent = sent_test\n",
    "    cos_sim = util.cos_sim(embed_sent, embeddings)\n",
    "    # if i == 0:\n",
    "    #     print(cos_sim.shape, cos_sim, '\\n')\n",
    "    \n",
    "    sent_sim = zip(sentences, cos_sim[0])\n",
    "    # if i == 0:\n",
    "    #     print(len(cos_sim), sent_sim, '\\n')\n",
    "    # for arr in cos_sim:\n",
    "    #     for i, val in enumerate(arr):\n",
    "    #         top_sim.append([sentences[i],val])\n",
    "\n",
    "    top_sim = sorted(sent_sim, key=lambda x: x[1], reverse=True)[:2]\n",
    "    # if i == 0:\n",
    "    #     print(len(cos_sim), top_sim, '\\n')\n",
    "    # if i<3:\n",
    "    #     for arr in top_sim:\n",
    "    #         print(f'Base : {sent}')\n",
    "    #         print(f'Score : {arr[1]}')\n",
    "    #         print(f'Sentence : {arr[0]}\\n')\n",
    "    # print(\"\\n\\n\")"
   ]
  },
  {
   "cell_type": "code",
   "execution_count": 37,
   "id": "055f4649-e623-4f6f-b270-84f74590ffc5",
   "metadata": {
    "tags": []
   },
   "outputs": [
    {
     "data": {
      "text/plain": [
       "array([ 0.73466694, -0.5601898 ,  0.09044465, ...,  0.6118551 ,\n",
       "       -1.1363635 ,  0.9054669 ], dtype=float32)"
      ]
     },
     "execution_count": 37,
     "metadata": {},
     "output_type": "execute_result"
    }
   ],
   "source": [
    "embeddings[0]"
   ]
  },
  {
   "cell_type": "code",
   "execution_count": null,
   "id": "73124321-cfc0-4a05-8971-9f2ba62fa73b",
   "metadata": {},
   "outputs": [],
   "source": []
  }
 ],
 "metadata": {
  "kernelspec": {
   "display_name": "meli",
   "language": "python",
   "name": "meli"
  },
  "language_info": {
   "codemirror_mode": {
    "name": "ipython",
    "version": 3
   },
   "file_extension": ".py",
   "mimetype": "text/x-python",
   "name": "python",
   "nbconvert_exporter": "python",
   "pygments_lexer": "ipython3",
   "version": "3.10.9"
  }
 },
 "nbformat": 4,
 "nbformat_minor": 5
}
