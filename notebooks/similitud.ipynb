{
 "cells": [
  {
   "cell_type": "code",
   "execution_count": 1,
   "id": "ee582cf3-9003-4523-adf7-fb053ff4e2af",
   "metadata": {
    "tags": []
   },
   "outputs": [],
   "source": [
    "%load_ext autoreload\n",
    "%autoreload 2"
   ]
  },
  {
   "cell_type": "code",
   "execution_count": 45,
   "id": "1c0c2cd9-9651-40c8-a712-999828dd6e49",
   "metadata": {
    "tags": []
   },
   "outputs": [],
   "source": [
    "import numpy as np\n",
    "import os\n",
    "import pandas as pd\n",
    "from sklearn.feature_extraction.text import TfidfVectorizer"
   ]
  },
  {
   "cell_type": "code",
   "execution_count": 98,
   "id": "6fd438a9-a384-47ad-b9d4-de49c768ef0c",
   "metadata": {
    "tags": []
   },
   "outputs": [],
   "source": [
    "from meli.text import normalize_text, get_embeddings, extract_top_n, most_similar"
   ]
  },
  {
   "cell_type": "code",
   "execution_count": 30,
   "id": "f6ca029b-b6e1-41ad-b312-accdb0ad55b9",
   "metadata": {
    "tags": []
   },
   "outputs": [],
   "source": [
    "raw_data = \"../data/raw/items_titles.csv\"\n",
    "raw_data_test = \"../data/raw/items_titles_test.csv\"\n",
    "\n",
    "processed_data = \"../data/processed/items_titles_sim.csv\""
   ]
  },
  {
   "cell_type": "code",
   "execution_count": null,
   "id": "54800511-3d4a-4cea-8455-881deae4a430",
   "metadata": {},
   "outputs": [],
   "source": [
    "df = pd.read_csv(raw_data)\n",
    "df_test = pd.read_csv(raw_data_test)"
   ]
  },
  {
   "cell_type": "markdown",
   "id": "d15479fc-a519-477d-bf81-f10104623f4c",
   "metadata": {},
   "source": [
    "## Preprocessing text"
   ]
  },
  {
   "cell_type": "code",
   "execution_count": 33,
   "id": "fe91c215-5a61-4bb1-b8a5-dd07f5361a73",
   "metadata": {
    "tags": []
   },
   "outputs": [],
   "source": [
    "df[\"normalized_text\"] = df[\"ITE_ITEM_TITLE\"].apply(normalize_text)\n",
    "df_test[\"normalized_text\"] = df_test[\"ITE_ITEM_TITLE\"].apply(normalize_text)"
   ]
  },
  {
   "cell_type": "code",
   "execution_count": 35,
   "id": "bd3d30ac-e014-4970-bd56-a72f3bba3dbf",
   "metadata": {
    "tags": []
   },
   "outputs": [
    {
     "data": {
      "text/html": [
       "<div>\n",
       "<style scoped>\n",
       "    .dataframe tbody tr th:only-of-type {\n",
       "        vertical-align: middle;\n",
       "    }\n",
       "\n",
       "    .dataframe tbody tr th {\n",
       "        vertical-align: top;\n",
       "    }\n",
       "\n",
       "    .dataframe thead th {\n",
       "        text-align: right;\n",
       "    }\n",
       "</style>\n",
       "<table border=\"1\" class=\"dataframe\">\n",
       "  <thead>\n",
       "    <tr style=\"text-align: right;\">\n",
       "      <th></th>\n",
       "      <th>ITE_ITEM_TITLE</th>\n",
       "      <th>normalized_text</th>\n",
       "    </tr>\n",
       "  </thead>\n",
       "  <tbody>\n",
       "    <tr>\n",
       "      <th>0</th>\n",
       "      <td>Tênis Ascension Posh Masculino - Preto E Verme...</td>\n",
       "      <td>tênis ascension posh masculino preto vermelho</td>\n",
       "    </tr>\n",
       "    <tr>\n",
       "      <th>1</th>\n",
       "      <td>Tenis Para Caminhada Super Levinho Spider Corr...</td>\n",
       "      <td>tenis caminhada super levinho spider corrida</td>\n",
       "    </tr>\n",
       "    <tr>\n",
       "      <th>2</th>\n",
       "      <td>Tênis Feminino Le Parc Hocks Black/ice Origina...</td>\n",
       "      <td>tênis feminino le parc hock black ice original...</td>\n",
       "    </tr>\n",
       "    <tr>\n",
       "      <th>3</th>\n",
       "      <td>Tênis Olympikus Esportivo Academia Nova Tendên...</td>\n",
       "      <td>tênis olympikus esportivo academia nova tendên...</td>\n",
       "    </tr>\n",
       "    <tr>\n",
       "      <th>4</th>\n",
       "      <td>Inteligente Led Bicicleta Tauda Luz Usb Bicicl...</td>\n",
       "      <td>inteligente led bicicleta tauda luz usb bicicl...</td>\n",
       "    </tr>\n",
       "  </tbody>\n",
       "</table>\n",
       "</div>"
      ],
      "text/plain": [
       "                                      ITE_ITEM_TITLE  \\\n",
       "0  Tênis Ascension Posh Masculino - Preto E Verme...   \n",
       "1  Tenis Para Caminhada Super Levinho Spider Corr...   \n",
       "2  Tênis Feminino Le Parc Hocks Black/ice Origina...   \n",
       "3  Tênis Olympikus Esportivo Academia Nova Tendên...   \n",
       "4  Inteligente Led Bicicleta Tauda Luz Usb Bicicl...   \n",
       "\n",
       "                                     normalized_text  \n",
       "0      tênis ascension posh masculino preto vermelho  \n",
       "1       tenis caminhada super levinho spider corrida  \n",
       "2  tênis feminino le parc hock black ice original...  \n",
       "3  tênis olympikus esportivo academia nova tendên...  \n",
       "4  inteligente led bicicleta tauda luz usb bicicl...  "
      ]
     },
     "execution_count": 35,
     "metadata": {},
     "output_type": "execute_result"
    }
   ],
   "source": [
    "df.head()"
   ]
  },
  {
   "cell_type": "code",
   "execution_count": 36,
   "id": "cf82f78a-4bb2-40c9-8bf7-7c8adc08771b",
   "metadata": {
    "tags": []
   },
   "outputs": [
    {
     "data": {
      "text/html": [
       "<div>\n",
       "<style scoped>\n",
       "    .dataframe tbody tr th:only-of-type {\n",
       "        vertical-align: middle;\n",
       "    }\n",
       "\n",
       "    .dataframe tbody tr th {\n",
       "        vertical-align: top;\n",
       "    }\n",
       "\n",
       "    .dataframe thead th {\n",
       "        text-align: right;\n",
       "    }\n",
       "</style>\n",
       "<table border=\"1\" class=\"dataframe\">\n",
       "  <thead>\n",
       "    <tr style=\"text-align: right;\">\n",
       "      <th></th>\n",
       "      <th>ITE_ITEM_TITLE</th>\n",
       "      <th>normalized_text</th>\n",
       "    </tr>\n",
       "  </thead>\n",
       "  <tbody>\n",
       "    <tr>\n",
       "      <th>0</th>\n",
       "      <td>Tênis Olympikus Esporte Valente - Masculino Kids</td>\n",
       "      <td>tênis olympikus esporte valente masculino kid</td>\n",
       "    </tr>\n",
       "    <tr>\n",
       "      <th>1</th>\n",
       "      <td>Bicicleta Barra Forte Samy C/ 6 Marchas Cubo C...</td>\n",
       "      <td>bicicleta barra forte samy c marchas cubo c ro...</td>\n",
       "    </tr>\n",
       "    <tr>\n",
       "      <th>2</th>\n",
       "      <td>Tênis Usthemp Slip-on Temático - Labrador 2</td>\n",
       "      <td>tênis usthemp slip on temá tico labrador</td>\n",
       "    </tr>\n",
       "    <tr>\n",
       "      <th>3</th>\n",
       "      <td>Tênis Casual Feminino Moleca Tecido Tie Dye</td>\n",
       "      <td>tênis casual feminino moleca tecido tie dye</td>\n",
       "    </tr>\n",
       "    <tr>\n",
       "      <th>4</th>\n",
       "      <td>Tênis Star Baby Sapatinho Conforto + Brinde</td>\n",
       "      <td>tênis star baby sapatinho conforto brinde</td>\n",
       "    </tr>\n",
       "  </tbody>\n",
       "</table>\n",
       "</div>"
      ],
      "text/plain": [
       "                                      ITE_ITEM_TITLE  \\\n",
       "0   Tênis Olympikus Esporte Valente - Masculino Kids   \n",
       "1  Bicicleta Barra Forte Samy C/ 6 Marchas Cubo C...   \n",
       "2       Tênis Usthemp Slip-on Temático - Labrador 2   \n",
       "3        Tênis Casual Feminino Moleca Tecido Tie Dye   \n",
       "4        Tênis Star Baby Sapatinho Conforto + Brinde   \n",
       "\n",
       "                                     normalized_text  \n",
       "0      tênis olympikus esporte valente masculino kid  \n",
       "1  bicicleta barra forte samy c marchas cubo c ro...  \n",
       "2           tênis usthemp slip on temá tico labrador  \n",
       "3        tênis casual feminino moleca tecido tie dye  \n",
       "4          tênis star baby sapatinho conforto brinde  "
      ]
     },
     "execution_count": 36,
     "metadata": {},
     "output_type": "execute_result"
    }
   ],
   "source": [
    "df_test.head()"
   ]
  },
  {
   "cell_type": "markdown",
   "id": "a7a1be5f-1ec4-4593-8596-d2243423f7cb",
   "metadata": {},
   "source": [
    "## Sentence encoding\n",
    "\n",
    "#### Descrição do modelo utilizado:\n",
    "[**distiluse-base-multilingual-cased-v1**](https://huggingface.co/sentence-transformers/distiluse-base-multilingual-cased-v1): Multilingual knowledge distilled version of [multilingual Universal Sentence Encoder](https://arxiv.org/abs/1907.04307). Supports 15 languages: Arabic, Chinese, Dutch, English, French, German, Italian, Korean, Polish, Portuguese, Russian, Spanish, Turkish.\n",
    "\n",
    "Fonte: https://www.sbert.net/docs/pretrained_models.html"
   ]
  },
  {
   "cell_type": "code",
   "execution_count": 37,
   "id": "94dfb2b1-8f87-4d46-8f16-7666eb44a534",
   "metadata": {
    "tags": []
   },
   "outputs": [
    {
     "name": "stdout",
     "output_type": "stream",
     "text": [
      "CPU times: user 8min 45s, sys: 12.7 s, total: 8min 58s\n",
      "Wall time: 5min 15s\n"
     ]
    }
   ],
   "source": [
    "%%time\n",
    "embeddings = get_embeddings(df[\"normalized_text\"], \"embeddings\")"
   ]
  },
  {
   "cell_type": "code",
   "execution_count": 38,
   "id": "ed1aedc5-78d3-4e08-974f-4bcec930d391",
   "metadata": {
    "tags": []
   },
   "outputs": [
    {
     "name": "stdout",
     "output_type": "stream",
     "text": [
      "CPU times: user 2min 55s, sys: 4.28 s, total: 2min 59s\n",
      "Wall time: 1min 44s\n"
     ]
    }
   ],
   "source": [
    "%%time\n",
    "embeddings_test = get_embeddings(df_test[\"normalized_text\"], \"embeddings_test\")"
   ]
  },
  {
   "cell_type": "markdown",
   "id": "baa4da8d-885b-4034-81e2-c0318fc57e9c",
   "metadata": {},
   "source": [
    "## TF-IDF\n",
    "\n",
    "Vamos usar TF-IDF para extrair uma lista de até 5 keywords de cada descrição de produto. Essa lista será utilizada como filtro para o cálculo de similaridade, pois iremos calcular a similaridade apenas entre items que tenham ao menos uma keyword compartilhada.\n",
    "\n",
    "Levando em consideração que:\n",
    "- O cálculo de similaridade é demorado e custoso para ser reaizado na base inteira\n",
    "- Uma operação entre dois sets de keywords é menos custosa\n",
    "- Itens que não compartilhem nenhuma keyword terão provavelmente uma similaridade baixa entre si\n",
    "Vamos utilizar esse filtro para reduzir o processamento total no cálculo da similaridade"
   ]
  },
  {
   "cell_type": "code",
   "execution_count": 49,
   "id": "9e6896c8-798d-4795-b9a2-0831992452b3",
   "metadata": {
    "tags": []
   },
   "outputs": [],
   "source": [
    "tf_idf = TfidfVectorizer(smooth_idf=True,use_idf=True)\n",
    "tf_idf.fit(pd.concat([df_test[\"normalized_text\"], df[\"normalized_text\"]]))\n",
    "feature_names = tf_idf.get_feature_names_out()"
   ]
  },
  {
   "cell_type": "code",
   "execution_count": 50,
   "id": "bb4c9bff-2911-4d5e-8b35-ebef9fd58c83",
   "metadata": {
    "tags": []
   },
   "outputs": [],
   "source": [
    "tfidf_vector_test = tf_idf.transform(df_test[\"normalized_text\"])\n",
    "tfidf_vector = tf_idf.transform(df[\"normalized_text\"])"
   ]
  },
  {
   "cell_type": "code",
   "execution_count": 55,
   "id": "c00c3e9e-35dd-4b63-9a22-86ddc5c09156",
   "metadata": {
    "tags": []
   },
   "outputs": [],
   "source": [
    "# extracting keywords\n",
    "keywords = []\n",
    "for i in range(df_test.shape[0]):\n",
    "    keywords.append(extract_top_n(feature_names, tfidf_vector[i]).keys())\n",
    "\n",
    "df_test[\"keywords\"] = keywords"
   ]
  },
  {
   "cell_type": "code",
   "execution_count": 56,
   "id": "72cd136e-e11a-411e-a056-d80a4ef69ac8",
   "metadata": {
    "tags": []
   },
   "outputs": [],
   "source": [
    "# extracting keywords\n",
    "keywords = []\n",
    "for i in range(df.shape[0]):\n",
    "    keywords.append(extract_top_n(feature_names, tfidf_vector[i]).keys())\n",
    "\n",
    "df[\"keywords\"] = keywords"
   ]
  },
  {
   "cell_type": "code",
   "execution_count": 58,
   "id": "b20cdc8f-2766-4532-9ec4-4bba902bc82b",
   "metadata": {
    "tags": []
   },
   "outputs": [],
   "source": [
    "%%time\n",
    "# creating a comparable list from items of `df` for each item of `df_test`\n",
    "def apply_filter(row):\n",
    "    df[\"filter\"] = df.apply(lambda x: len(x[\"keywords\"] & row[\"keywords\"]), axis=1)\n",
    "    return list(df[df[\"filter\"]>0].index.values)\n",
    "\n",
    "df_test[\"comparable\"] = df_test.apply(lambda x: apply_filter(x), axis=1)"
   ]
  },
  {
   "cell_type": "code",
   "execution_count": 59,
   "id": "6b782cb5-e14b-469e-a6fe-710481265007",
   "metadata": {
    "tags": []
   },
   "outputs": [
    {
     "data": {
      "text/html": [
       "<div>\n",
       "<style scoped>\n",
       "    .dataframe tbody tr th:only-of-type {\n",
       "        vertical-align: middle;\n",
       "    }\n",
       "\n",
       "    .dataframe tbody tr th {\n",
       "        vertical-align: top;\n",
       "    }\n",
       "\n",
       "    .dataframe thead th {\n",
       "        text-align: right;\n",
       "    }\n",
       "</style>\n",
       "<table border=\"1\" class=\"dataframe\">\n",
       "  <thead>\n",
       "    <tr style=\"text-align: right;\">\n",
       "      <th></th>\n",
       "      <th>ITE_ITEM_TITLE</th>\n",
       "      <th>normalized_text</th>\n",
       "      <th>keywords</th>\n",
       "      <th>comparable</th>\n",
       "    </tr>\n",
       "  </thead>\n",
       "  <tbody>\n",
       "    <tr>\n",
       "      <th>0</th>\n",
       "      <td>Tênis Olympikus Esporte Valente - Masculino Kids</td>\n",
       "      <td>tênis olympikus esporte valente masculino kid</td>\n",
       "      <td>(posh, ascension, vermelho, preto, masculino)</td>\n",
       "      <td>[0, 5, 19, 30, 31, 35, 44, 49, 51, 85, 87, 90,...</td>\n",
       "    </tr>\n",
       "    <tr>\n",
       "      <th>1</th>\n",
       "      <td>Bicicleta Barra Forte Samy C/ 6 Marchas Cubo C...</td>\n",
       "      <td>bicicleta barra forte samy c marchas cubo c ro...</td>\n",
       "      <td>(spider, levinho, super, corrida, caminhada)</td>\n",
       "      <td>[1, 20, 21, 30, 55, 56, 64, 108, 121, 132, 135...</td>\n",
       "    </tr>\n",
       "    <tr>\n",
       "      <th>2</th>\n",
       "      <td>Tênis Usthemp Slip-on Temático - Labrador 2</td>\n",
       "      <td>tênis usthemp slip on temá tico labrador</td>\n",
       "      <td>(parc, ice, le, hock, black)</td>\n",
       "      <td>[2, 12, 134, 195, 341, 364, 439, 473, 492, 515...</td>\n",
       "    </tr>\n",
       "    <tr>\n",
       "      <th>3</th>\n",
       "      <td>Tênis Casual Feminino Moleca Tecido Tie Dye</td>\n",
       "      <td>tênis casual feminino moleca tecido tie dye</td>\n",
       "      <td>(triunfo, tendência, nova, esportivo, academia)</td>\n",
       "      <td>[3, 7, 21, 30, 44, 49, 65, 78, 81, 106, 108, 1...</td>\n",
       "    </tr>\n",
       "    <tr>\n",
       "      <th>4</th>\n",
       "      <td>Tênis Star Baby Sapatinho Conforto + Brinde</td>\n",
       "      <td>tênis star baby sapatinho conforto brinde</td>\n",
       "      <td>(tauda, carregáve, inteligente, usb, bicicleta)</td>\n",
       "      <td>[4, 16, 52, 54, 176, 191, 338, 350, 368, 374, ...</td>\n",
       "    </tr>\n",
       "  </tbody>\n",
       "</table>\n",
       "</div>"
      ],
      "text/plain": [
       "                                      ITE_ITEM_TITLE  \\\n",
       "0   Tênis Olympikus Esporte Valente - Masculino Kids   \n",
       "1  Bicicleta Barra Forte Samy C/ 6 Marchas Cubo C...   \n",
       "2       Tênis Usthemp Slip-on Temático - Labrador 2   \n",
       "3        Tênis Casual Feminino Moleca Tecido Tie Dye   \n",
       "4        Tênis Star Baby Sapatinho Conforto + Brinde   \n",
       "\n",
       "                                     normalized_text  \\\n",
       "0      tênis olympikus esporte valente masculino kid   \n",
       "1  bicicleta barra forte samy c marchas cubo c ro...   \n",
       "2           tênis usthemp slip on temá tico labrador   \n",
       "3        tênis casual feminino moleca tecido tie dye   \n",
       "4          tênis star baby sapatinho conforto brinde   \n",
       "\n",
       "                                          keywords  \\\n",
       "0    (posh, ascension, vermelho, preto, masculino)   \n",
       "1     (spider, levinho, super, corrida, caminhada)   \n",
       "2                     (parc, ice, le, hock, black)   \n",
       "3  (triunfo, tendência, nova, esportivo, academia)   \n",
       "4  (tauda, carregáve, inteligente, usb, bicicleta)   \n",
       "\n",
       "                                          comparable  \n",
       "0  [0, 5, 19, 30, 31, 35, 44, 49, 51, 85, 87, 90,...  \n",
       "1  [1, 20, 21, 30, 55, 56, 64, 108, 121, 132, 135...  \n",
       "2  [2, 12, 134, 195, 341, 364, 439, 473, 492, 515...  \n",
       "3  [3, 7, 21, 30, 44, 49, 65, 78, 81, 106, 108, 1...  \n",
       "4  [4, 16, 52, 54, 176, 191, 338, 350, 368, 374, ...  "
      ]
     },
     "execution_count": 59,
     "metadata": {},
     "output_type": "execute_result"
    }
   ],
   "source": [
    "df_test.head()"
   ]
  },
  {
   "cell_type": "markdown",
   "id": "4ddb31af-e1a2-40f4-81fa-c08ff092fe99",
   "metadata": {},
   "source": [
    "## Similaridade\n",
    "\n",
    "Calculando a similaridade no dataset `df_test` com os itens cmparáveis do dataset `df`"
   ]
  },
  {
   "cell_type": "code",
   "execution_count": 100,
   "id": "6643914b-00e4-426c-b0a6-018ff1382f8a",
   "metadata": {
    "tags": []
   },
   "outputs": [
    {
     "name": "stdout",
     "output_type": "stream",
     "text": [
      "CPU times: user 1h 30min 3s, sys: 53.6 s, total: 1h 30min 57s\n",
      "Wall time: 3h 22min 4s\n"
     ]
    }
   ],
   "source": [
    "%%time\n",
    "df_test[\"ITE_ITEM_TITLE_similar\"], df_test[\"Score Similitud\"] = zip(*df_test.apply(lambda x: most_similar(x, embeddings_test, embeddings, df), axis=1))"
   ]
  },
  {
   "cell_type": "code",
   "execution_count": 101,
   "id": "8889b9cf-208b-44a0-a5dd-880c1acad70b",
   "metadata": {
    "tags": []
   },
   "outputs": [
    {
     "data": {
      "text/html": [
       "<div>\n",
       "<style scoped>\n",
       "    .dataframe tbody tr th:only-of-type {\n",
       "        vertical-align: middle;\n",
       "    }\n",
       "\n",
       "    .dataframe tbody tr th {\n",
       "        vertical-align: top;\n",
       "    }\n",
       "\n",
       "    .dataframe thead th {\n",
       "        text-align: right;\n",
       "    }\n",
       "</style>\n",
       "<table border=\"1\" class=\"dataframe\">\n",
       "  <thead>\n",
       "    <tr style=\"text-align: right;\">\n",
       "      <th></th>\n",
       "      <th>ITE_ITEM_TITLE</th>\n",
       "      <th>normalized_text</th>\n",
       "      <th>keywords</th>\n",
       "      <th>comparable</th>\n",
       "      <th>ITE_ITEM_TITLE_similar</th>\n",
       "      <th>Score Similitud</th>\n",
       "    </tr>\n",
       "  </thead>\n",
       "  <tbody>\n",
       "    <tr>\n",
       "      <th>0</th>\n",
       "      <td>Tênis Olympikus Esporte Valente - Masculino Kids</td>\n",
       "      <td>tênis olympikus esporte valente masculino kid</td>\n",
       "      <td>(posh, ascension, vermelho, preto, masculino)</td>\n",
       "      <td>[0, 5, 19, 30, 31, 35, 44, 49, 51, 85, 87, 90,...</td>\n",
       "      <td>[Tênis Infantil Olympikus Valente Kids Masculi...</td>\n",
       "      <td>[0.9, 0.9]</td>\n",
       "    </tr>\n",
       "    <tr>\n",
       "      <th>1</th>\n",
       "      <td>Bicicleta Barra Forte Samy C/ 6 Marchas Cubo C...</td>\n",
       "      <td>bicicleta barra forte samy c marchas cubo c ro...</td>\n",
       "      <td>(spider, levinho, super, corrida, caminhada)</td>\n",
       "      <td>[1, 20, 21, 30, 55, 56, 64, 108, 121, 132, 135...</td>\n",
       "      <td>[Sapatilha Neoprene Ciclismo Bike Caminhada Co...</td>\n",
       "      <td>[0.6, 0.6]</td>\n",
       "    </tr>\n",
       "    <tr>\n",
       "      <th>2</th>\n",
       "      <td>Tênis Usthemp Slip-on Temático - Labrador 2</td>\n",
       "      <td>tênis usthemp slip on temá tico labrador</td>\n",
       "      <td>(parc, ice, le, hock, black)</td>\n",
       "      <td>[2, 12, 134, 195, 341, 364, 439, 473, 492, 515...</td>\n",
       "      <td>[Tênis Hocks Tempus Nuts, Tênis Hocks - On Cam...</td>\n",
       "      <td>[0.8, 0.8]</td>\n",
       "    </tr>\n",
       "    <tr>\n",
       "      <th>3</th>\n",
       "      <td>Tênis Casual Feminino Moleca Tecido Tie Dye</td>\n",
       "      <td>tênis casual feminino moleca tecido tie dye</td>\n",
       "      <td>(triunfo, tendência, nova, esportivo, academia)</td>\n",
       "      <td>[3, 7, 21, 30, 44, 49, 65, 78, 81, 106, 108, 1...</td>\n",
       "      <td>[Tênis Feminino Esportivo Nexx 135 Cadarço Tec...</td>\n",
       "      <td>[0.8, 0.8]</td>\n",
       "    </tr>\n",
       "    <tr>\n",
       "      <th>4</th>\n",
       "      <td>Tênis Star Baby Sapatinho Conforto + Brinde</td>\n",
       "      <td>tênis star baby sapatinho conforto brinde</td>\n",
       "      <td>(tauda, carregáve, inteligente, usb, bicicleta)</td>\n",
       "      <td>[4, 16, 52, 54, 176, 191, 338, 350, 368, 374, ...</td>\n",
       "      <td>[Tênis De Led Infantil Recarregável Masculino ...</td>\n",
       "      <td>[0.6, 0.6]</td>\n",
       "    </tr>\n",
       "  </tbody>\n",
       "</table>\n",
       "</div>"
      ],
      "text/plain": [
       "                                      ITE_ITEM_TITLE  \\\n",
       "0   Tênis Olympikus Esporte Valente - Masculino Kids   \n",
       "1  Bicicleta Barra Forte Samy C/ 6 Marchas Cubo C...   \n",
       "2       Tênis Usthemp Slip-on Temático - Labrador 2   \n",
       "3        Tênis Casual Feminino Moleca Tecido Tie Dye   \n",
       "4        Tênis Star Baby Sapatinho Conforto + Brinde   \n",
       "\n",
       "                                     normalized_text  \\\n",
       "0      tênis olympikus esporte valente masculino kid   \n",
       "1  bicicleta barra forte samy c marchas cubo c ro...   \n",
       "2           tênis usthemp slip on temá tico labrador   \n",
       "3        tênis casual feminino moleca tecido tie dye   \n",
       "4          tênis star baby sapatinho conforto brinde   \n",
       "\n",
       "                                          keywords  \\\n",
       "0    (posh, ascension, vermelho, preto, masculino)   \n",
       "1     (spider, levinho, super, corrida, caminhada)   \n",
       "2                     (parc, ice, le, hock, black)   \n",
       "3  (triunfo, tendência, nova, esportivo, academia)   \n",
       "4  (tauda, carregáve, inteligente, usb, bicicleta)   \n",
       "\n",
       "                                          comparable  \\\n",
       "0  [0, 5, 19, 30, 31, 35, 44, 49, 51, 85, 87, 90,...   \n",
       "1  [1, 20, 21, 30, 55, 56, 64, 108, 121, 132, 135...   \n",
       "2  [2, 12, 134, 195, 341, 364, 439, 473, 492, 515...   \n",
       "3  [3, 7, 21, 30, 44, 49, 65, 78, 81, 106, 108, 1...   \n",
       "4  [4, 16, 52, 54, 176, 191, 338, 350, 368, 374, ...   \n",
       "\n",
       "                              ITE_ITEM_TITLE_similar Score Similitud  \n",
       "0  [Tênis Infantil Olympikus Valente Kids Masculi...      [0.9, 0.9]  \n",
       "1  [Sapatilha Neoprene Ciclismo Bike Caminhada Co...      [0.6, 0.6]  \n",
       "2  [Tênis Hocks Tempus Nuts, Tênis Hocks - On Cam...      [0.8, 0.8]  \n",
       "3  [Tênis Feminino Esportivo Nexx 135 Cadarço Tec...      [0.8, 0.8]  \n",
       "4  [Tênis De Led Infantil Recarregável Masculino ...      [0.6, 0.6]  "
      ]
     },
     "execution_count": 101,
     "metadata": {},
     "output_type": "execute_result"
    }
   ],
   "source": [
    "df_test.head()"
   ]
  },
  {
   "cell_type": "code",
   "execution_count": 102,
   "id": "4f5a2c14-06c7-4f9c-aa7e-5c8c06226693",
   "metadata": {
    "tags": []
   },
   "outputs": [],
   "source": [
    "df_test[[\"ITE_ITEM_TITLE\", \"ITE_ITEM_TITLE_similar\", \"Score Similitud\"]] \\\n",
    "    .explode([\"ITE_ITEM_TITLE_similar\", \"Score Similitud\"]) \\\n",
    "    .to_csv(processed_data, index=False)"
   ]
  },
  {
   "cell_type": "code",
   "execution_count": null,
   "id": "5dc01ba6-fb36-430a-92ed-60f3670cb072",
   "metadata": {},
   "outputs": [],
   "source": []
  }
 ],
 "metadata": {
  "kernelspec": {
   "display_name": "meli",
   "language": "python",
   "name": "meli"
  },
  "language_info": {
   "codemirror_mode": {
    "name": "ipython",
    "version": 3
   },
   "file_extension": ".py",
   "mimetype": "text/x-python",
   "name": "python",
   "nbconvert_exporter": "python",
   "pygments_lexer": "ipython3",
   "version": "3.10.9"
  }
 },
 "nbformat": 4,
 "nbformat_minor": 5
}
